{
 "cells": [
  {
   "cell_type": "code",
   "execution_count": 99,
   "metadata": {
    "collapsed": true
   },
   "outputs": [],
   "source": [
    "import graphlab\n",
    "import numpy as np\n",
    "import pandas as pd"
   ]
  },
  {
   "cell_type": "code",
   "execution_count": 100,
   "metadata": {
    "collapsed": true
   },
   "outputs": [],
   "source": [
    "def get_numpy_data(data_sframe, features, output):\n",
    "    data_sframe['constant'] = 1 # add a constant column to an SFrame\n",
    "    # prepend variable 'constant' to the features list\n",
    "    features = ['constant'] + features\n",
    "    # select the columns of data_SFrame given by the ‘features’ list into the SFrame ‘features_sframe’\n",
    "    features_df = pd.DataFrame(data_sframe, columns=features)\n",
    "    # this will convert the features_df into a numpy matrix with GraphLab Create >= 1.7!!\n",
    "    features_matrix = features_df.as_matrix()\n",
    "    # assign the column of data_sframe associated with the target to the variable ‘output_sarray’\n",
    "    output_series = pd.Series(data_sframe['price'])\n",
    "    # this will convert the SArray into a numpy array:\n",
    "    output_array = output_series.as_matrix() # GraphLab Create>= 1.7!!\n",
    "    return(features_matrix, output_array)"
   ]
  },
  {
   "cell_type": "code",
   "execution_count": 101,
   "metadata": {
    "collapsed": true
   },
   "outputs": [],
   "source": [
    "def predict_outcome(feature_matrix, weights):\n",
    "    predictions = np.dot(feature_matrix,weights)\n",
    "    return(predictions)"
   ]
  },
  {
   "cell_type": "code",
   "execution_count": 115,
   "metadata": {
    "collapsed": false
   },
   "outputs": [],
   "source": [
    "def feature_derivative_ridge(errors, feature, weights, l2_penalty, feature_is_constant):\n",
    "    least_square_derivative = 2 * np.dot(errors, feature)\n",
    "    if feature_is_constant:\n",
    "        ridge_term_derivative = 0\n",
    "    else:\n",
    "        ridge_term_derivative = 2 * l2_penalty * weights    \n",
    "    derivative = least_square_derivative - ridge_term_derivative\n",
    "    return(derivative)"
   ]
  },
  {
   "cell_type": "code",
   "execution_count": 103,
   "metadata": {
    "collapsed": false
   },
   "outputs": [],
   "source": [
    "dtype_dict = {'bathrooms':float, 'waterfront':int, 'sqft_above':int, 'sqft_living15':float, 'grade':int, 'yr_renovated':int, 'price':float, 'bedrooms':float, 'zipcode':str, 'long':float, 'sqft_lot15':float, 'sqft_living':float, 'floors':str, 'condition':int, 'lat':float, 'date':str, 'sqft_basement':int, 'yr_built':int, 'id':str, 'sqft_lot':int, 'view':int}\n",
    "house_data_train = pd.read_csv('kc_house_train_data.csv', dtype=dtype_dict)\n",
    "house_data_test = pd.read_csv('kc_house_test_data.csv', dtype=dtype_dict)"
   ]
  },
  {
   "cell_type": "code",
   "execution_count": 116,
   "metadata": {
    "collapsed": false
   },
   "outputs": [
    {
     "name": "stdout",
     "output_type": "stream",
     "text": [
      "[ 1180.  2570.   770. ...,  1530.  1600.  1020.]\n",
      "[ 11801.  25701.   7701. ...,  15301.  16001.  10201.]\n",
      "[-210099. -512299. -172299. ..., -344699. -383999. -314799.]\n",
      "-4.55328923375e+13\n",
      "-4.55328923355e+13\n",
      "\n",
      "-18029479492.0\n",
      "-18029479492.0\n"
     ]
    }
   ],
   "source": [
    "(example_features, example_output) = get_numpy_data(house_data_train, ['sqft_living'], 'price')\n",
    "my_weights = np.array([1., 10.])\n",
    "print example_features[:,1]\n",
    "test_predictions = predict_outcome(example_features, my_weights)\n",
    "print test_predictions\n",
    "errors = test_predictions - example_output # prediction errors\n",
    "print errors\n",
    "\n",
    "# next two lines should print the same values\n",
    "print feature_derivative_ridge(errors, example_features[:,1], my_weights[1], 100, False)\n",
    "print np.sum(errors*example_features[:,1])*2+20.\n",
    "print ''\n",
    "\n",
    "# next two lines should print the same values\n",
    "print feature_derivative_ridge(errors, example_features[:,0], my_weights[0], 1, True)\n",
    "print np.sum(errors)*2."
   ]
  },
  {
   "cell_type": "code",
   "execution_count": 117,
   "metadata": {
    "collapsed": false
   },
   "outputs": [],
   "source": [
    "import time\n",
    "def regression_gradient_descent_ridge(feature_matrix, output, initial_weights, step_size, l2_penalty, max_iteration=100):\n",
    "    converged = False\n",
    "    weights = np.array(initial_weights)\n",
    "    j=0\n",
    "    while j <= max_iteration:\n",
    "        # compute the predictions based on feature_matrix and weights:\n",
    "        predictions = predict_outcome(feature_matrix, weights)\n",
    "        #print \"PRDICTIONS ==>\"\n",
    "        #print predictions\n",
    "        # compute the errors as predictions - output:\n",
    "        #errors = predictions - output\n",
    "        errors = (output) - (predictions)\n",
    "        #print \"ERRORS ==>\"\n",
    "        #print errors\n",
    "        #time.sleep(10)\n",
    "        # while not converged, update each weight individually:\n",
    "        for i in xrange(len(weights)):\n",
    "            #print \"value of i\" \n",
    "            #print i\n",
    "            # Recall that feature_matrix[:, i] is the feature column associated with weights[i]\n",
    "            feature_column = feature_matrix[:, i]\n",
    "            #print \"FEATURE_COLUMN ==>\"\n",
    "            #print feature_column\n",
    "            # compute the derivative for weight[i]:\n",
    "            if i == 0:\n",
    "                constant_flag=True\n",
    "            else:\n",
    "                constant_flag=False\n",
    "            derivative = feature_derivative_ridge(errors, feature_column, weights[i], l2_penalty, constant_flag)\n",
    "            #print \"DERIVATIVE ==>\"\n",
    "            #print derivative\n",
    "            # update the weight based on step size and derivative:\n",
    "            #print \"WEIGHTS BEFORE UPDATE ==>\"\n",
    "            #print weights[i]\n",
    "            weights[i]=weights[i] + (step_size*derivative)\n",
    "            #print \"WEIGHTS AFTER UPDATE ==>\"\n",
    "            #print weights[i]\n",
    "        j+=1\n",
    "    return(weights)"
   ]
  },
  {
   "cell_type": "code",
   "execution_count": 118,
   "metadata": {
    "collapsed": false
   },
   "outputs": [
    {
     "name": "stdout",
     "output_type": "stream",
     "text": [
      "[ 0.  0.]\n"
     ]
    }
   ],
   "source": [
    "simple_features = ['sqft_living']\n",
    "my_output= 'price'\n",
    "(simple_feature_matrix, output) = get_numpy_data(house_data_train, simple_features, my_output)\n",
    "initial_weights = np.zeros(2)\n",
    "print initial_weights\n",
    "step_size = 1e-12\n",
    "max_iteration = 1000\n",
    "l2_penalty=0.0"
   ]
  },
  {
   "cell_type": "code",
   "execution_count": 120,
   "metadata": {
    "collapsed": false
   },
   "outputs": [],
   "source": [
    "simple_weights_0_penalty = regression_gradient_descent_ridge(simple_feature_matrix, output, initial_weights, step_size, l2_penalty, max_iteration)"
   ]
  },
  {
   "cell_type": "code",
   "execution_count": 121,
   "metadata": {
    "collapsed": false
   },
   "outputs": [
    {
     "data": {
      "text/plain": [
       "array([ -1.63382329e-01,   2.63024369e+02])"
      ]
     },
     "execution_count": 121,
     "metadata": {},
     "output_type": "execute_result"
    }
   ],
   "source": [
    "simple_weights_0_penalty"
   ]
  },
  {
   "cell_type": "code",
   "execution_count": 122,
   "metadata": {
    "collapsed": true
   },
   "outputs": [],
   "source": [
    "l2_high_penalty=1e+11"
   ]
  },
  {
   "cell_type": "code",
   "execution_count": 123,
   "metadata": {
    "collapsed": false
   },
   "outputs": [],
   "source": [
    "simple_weights_high_penalty = regression_gradient_descent_ridge(simple_feature_matrix, output, initial_weights, step_size, l2_high_penalty, max_iteration)"
   ]
  },
  {
   "cell_type": "code",
   "execution_count": 92,
   "metadata": {
    "collapsed": false
   },
   "outputs": [
    {
     "data": {
      "text/plain": [
       "array([ -3.61806605e+09,   1.00286350e+12])"
      ]
     },
     "execution_count": 92,
     "metadata": {},
     "output_type": "execute_result"
    }
   ],
   "source": [
    "simple_weights_high_penalty"
   ]
  },
  {
   "cell_type": "code",
   "execution_count": 124,
   "metadata": {
    "collapsed": false
   },
   "outputs": [
    {
     "data": {
      "text/plain": [
       "[<matplotlib.lines.Line2D at 0x16fdbc18>,\n",
       " <matplotlib.lines.Line2D at 0x16fdbcf8>,\n",
       " <matplotlib.lines.Line2D at 0x16fdbe80>,\n",
       " <matplotlib.lines.Line2D at 0x14e258d0>,\n",
       " <matplotlib.lines.Line2D at 0x14e259e8>,\n",
       " <matplotlib.lines.Line2D at 0x14e0c400>]"
      ]
     },
     "execution_count": 124,
     "metadata": {},
     "output_type": "execute_result"
    },
    {
     "data": {
      "image/png": "[encoded data removed]",
      "text/plain": [
       "<matplotlib.figure.Figure at 0x16204b70>"
      ]
     },
     "metadata": {},
     "output_type": "display_data"
    }
   ],
   "source": [
    "import matplotlib.pyplot as plt\n",
    "%matplotlib inline\n",
    "plt.plot(simple_feature_matrix,output,'k.',\n",
    "        simple_feature_matrix,predict_outcome(simple_feature_matrix, simple_weights_0_penalty),'b-',\n",
    "        simple_feature_matrix,predict_outcome(simple_feature_matrix, simple_weights_high_penalty),'r-')"
   ]
  },
  {
   "cell_type": "code",
   "execution_count": 125,
   "metadata": {
    "collapsed": false
   },
   "outputs": [
    {
     "data": {
      "text/plain": [
       "array([ 0.,  0.])"
      ]
     },
     "execution_count": 125,
     "metadata": {},
     "output_type": "execute_result"
    }
   ],
   "source": [
    "initial_weights"
   ]
  },
  {
   "cell_type": "code",
   "execution_count": 126,
   "metadata": {
    "collapsed": false
   },
   "outputs": [
    {
     "data": {
      "text/plain": [
       "array([ -1.63382329e-01,   2.63024369e+02])"
      ]
     },
     "execution_count": 126,
     "metadata": {},
     "output_type": "execute_result"
    }
   ],
   "source": [
    "simple_weights_0_penalty"
   ]
  },
  {
   "cell_type": "code",
   "execution_count": 127,
   "metadata": {
    "collapsed": false
   },
   "outputs": [
    {
     "data": {
      "text/plain": [
       "array([   9.77704731,  124.57217382])"
      ]
     },
     "execution_count": 127,
     "metadata": {},
     "output_type": "execute_result"
    }
   ],
   "source": [
    "simple_weights_high_penalty"
   ]
  },
  {
   "cell_type": "code",
   "execution_count": 128,
   "metadata": {
    "collapsed": true
   },
   "outputs": [],
   "source": [
    "(simple_test_feature_matrix, output) = get_numpy_data(house_data_test, simple_features, my_output)"
   ]
  },
  {
   "cell_type": "code",
   "execution_count": 129,
   "metadata": {
    "collapsed": true
   },
   "outputs": [],
   "source": [
    "predictions_test_initial_weights = predict_outcome(simple_test_feature_matrix, initial_weights)\n",
    "predictions_test_0_penalty = predict_outcome(simple_test_feature_matrix, simple_weights_0_penalty)\n",
    "predictions_test_high_penalty = predict_outcome(simple_test_feature_matrix, simple_weights_high_penalty)"
   ]
  },
  {
   "cell_type": "code",
   "execution_count": 131,
   "metadata": {
    "collapsed": true
   },
   "outputs": [],
   "source": [
    "RSS_intital_weights = np.sum((output - predictions_test_initial_weights)**2)\n",
    "RSS_0_penalty = np.sum((output - predictions_test_0_penalty)**2)\n",
    "RSS_high_penalty = np.sum((output - predictions_test_high_penalty)**2)"
   ]
  },
  {
   "cell_type": "code",
   "execution_count": 132,
   "metadata": {
    "collapsed": false
   },
   "outputs": [
    {
     "name": "stdout",
     "output_type": "stream",
     "text": [
      "1.78427328614e+15\n",
      "2.75723632143e+14\n",
      "6.9464208928e+14\n"
     ]
    }
   ],
   "source": [
    "print RSS_intital_weights\n",
    "print RSS_0_penalty\n",
    "print RSS_high_penalty"
   ]
  },
  {
   "cell_type": "code",
   "execution_count": 133,
   "metadata": {
    "collapsed": false
   },
   "outputs": [],
   "source": [
    "model_features = ['sqft_living', 'sqft_living15']\n",
    "my_output = 'price'\n",
    "(feature_matrix, output) = get_numpy_data(house_data_train, model_features,my_output)\n",
    "(test_feature_matrix, test_output) = get_numpy_data(house_data_test, model_features,my_output)"
   ]
  },
  {
   "cell_type": "code",
   "execution_count": 135,
   "metadata": {
    "collapsed": false
   },
   "outputs": [],
   "source": [
    "initial_multi_weights = np.zeros(len(model_features)+1)"
   ]
  },
  {
   "cell_type": "code",
   "execution_count": 136,
   "metadata": {
    "collapsed": true
   },
   "outputs": [],
   "source": [
    "step_size = 1e-12\n",
    "max_iteration = 1000"
   ]
  },
  {
   "cell_type": "code",
   "execution_count": 137,
   "metadata": {
    "collapsed": true
   },
   "outputs": [],
   "source": [
    "multi_weights_0_penalty = regression_gradient_descent_ridge(feature_matrix, output, initial_multi_weights, step_size, 0, max_iteration)"
   ]
  },
  {
   "cell_type": "code",
   "execution_count": 138,
   "metadata": {
    "collapsed": true
   },
   "outputs": [],
   "source": [
    "multi_weights_high_penalty = regression_gradient_descent_ridge(feature_matrix, output, initial_multi_weights, step_size, 1e11, max_iteration)"
   ]
  },
  {
   "cell_type": "code",
   "execution_count": 139,
   "metadata": {
    "collapsed": false
   },
   "outputs": [
    {
     "name": "stdout",
     "output_type": "stream",
     "text": [
      "[  -0.35780714  243.05572642   22.41312485]\n",
      "[  6.74968592  91.48927275  78.43658676]\n"
     ]
    }
   ],
   "source": [
    "print multi_weights_0_penalty\n",
    "print multi_weights_high_penalty"
   ]
  },
  {
   "cell_type": "code",
   "execution_count": 141,
   "metadata": {
    "collapsed": false
   },
   "outputs": [
    {
     "name": "stdout",
     "output_type": "stream",
     "text": [
      "[ 0.  0.  0.]\n"
     ]
    }
   ],
   "source": [
    "multi_initial_weights = np.zeros(3)\n",
    "print multi_initial_weights"
   ]
  },
  {
   "cell_type": "code",
   "execution_count": 142,
   "metadata": {
    "collapsed": false
   },
   "outputs": [],
   "source": [
    "predictions_multi_test_initial_weights = predict_outcome(test_feature_matrix, multi_initial_weights)\n",
    "predictions__multi_test_0_penalty = predict_outcome(test_feature_matrix, multi_weights_0_penalty)\n",
    "predictions_multi_test_high_penalty = predict_outcome(test_feature_matrix, multi_weights_high_penalty)"
   ]
  },
  {
   "cell_type": "code",
   "execution_count": 143,
   "metadata": {
    "collapsed": false
   },
   "outputs": [],
   "source": [
    "RSS_multi_intital_weights = np.sum((test_output - predictions_multi_test_initial_weights)**2)\n",
    "RSS_multi_0_penalty = np.sum((test_output - predictions__multi_test_0_penalty)**2)\n",
    "RSS_multi_high_penalty = np.sum((test_output - predictions_multi_test_high_penalty)**2)"
   ]
  },
  {
   "cell_type": "code",
   "execution_count": 144,
   "metadata": {
    "collapsed": false
   },
   "outputs": [
    {
     "name": "stdout",
     "output_type": "stream",
     "text": [
      "1.78427328614e+15\n",
      "2.74067691979e+14\n",
      "5.00404796779e+14\n"
     ]
    }
   ],
   "source": [
    "print RSS_multi_intital_weights\n",
    "print RSS_multi_0_penalty\n",
    "print RSS_multi_high_penalty"
   ]
  },
  {
   "cell_type": "code",
   "execution_count": 145,
   "metadata": {
    "collapsed": false
   },
   "outputs": [
    {
     "data": {
      "text/plain": [
       "array([ 387464.6932133 ,  764978.12232361,  438710.45297376, ...,\n",
       "        668981.14740476,  602474.38870868,  270777.87049291])"
      ]
     },
     "execution_count": 145,
     "metadata": {},
     "output_type": "execute_result"
    }
   ],
   "source": [
    "predictions__multi_test_0_penalty"
   ]
  },
  {
   "cell_type": "code",
   "execution_count": 146,
   "metadata": {
    "collapsed": false
   },
   "outputs": [
    {
     "data": {
      "text/plain": [
       "array([ 270453.53414681,  437754.39995974,  237243.09044882, ...,\n",
       "        428219.91564497,  354885.92350484,  173331.12638363])"
      ]
     },
     "execution_count": 146,
     "metadata": {},
     "output_type": "execute_result"
    }
   ],
   "source": [
    "predictions_multi_test_high_penalty"
   ]
  },
  {
   "cell_type": "code",
   "execution_count": 147,
   "metadata": {
    "collapsed": false
   },
   "outputs": [
    {
     "data": {
      "text/plain": [
       "array([ 310000.,  650000.,  233000., ...,  610685.,  400000.,  402101.])"
      ]
     },
     "execution_count": 147,
     "metadata": {},
     "output_type": "execute_result"
    }
   ],
   "source": [
    "test_output"
   ]
  }
 ],
 "metadata": {
  "kernelspec": {
   "display_name": "Python 2",
   "language": "python",
   "name": "python2"
  },
  "language_info": {
   "codemirror_mode": {
    "name": "ipython",
    "version": 2
   },
   "file_extension": ".py",
   "mimetype": "text/x-python",
   "name": "python",
   "nbconvert_exporter": "python",
   "pygments_lexer": "ipython2",
   "version": "2.7.13"
  }
 },
 "nbformat": 4,
 "nbformat_minor": 0
}
