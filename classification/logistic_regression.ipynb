{
 "cells": [
  {
   "cell_type": "code",
   "execution_count": 1,
   "metadata": {
    "collapsed": true
   },
   "outputs": [],
   "source": [
    "import pandas as pd\n",
    "import numpy as np"
   ]
  },
  {
   "cell_type": "code",
   "execution_count": 2,
   "metadata": {
    "collapsed": false
   },
   "outputs": [],
   "source": [
    "products = pd.read_csv('amazon_baby_subset.csv')"
   ]
  },
  {
   "cell_type": "code",
   "execution_count": 3,
   "metadata": {
    "collapsed": false
   },
   "outputs": [
    {
     "data": {
      "text/html": [
       "<div>\n",
       "<table border=\"1\" class=\"dataframe\">\n",
       "  <thead>\n",
       "    <tr style=\"text-align: right;\">\n",
       "      <th></th>\n",
       "      <th>name</th>\n",
       "      <th>review</th>\n",
       "      <th>rating</th>\n",
       "      <th>sentiment</th>\n",
       "    </tr>\n",
       "  </thead>\n",
       "  <tbody>\n",
       "    <tr>\n",
       "      <th>0</th>\n",
       "      <td>Stop Pacifier Sucking without tears with Thumb...</td>\n",
       "      <td>All of my kids have cried non-stop when I trie...</td>\n",
       "      <td>5</td>\n",
       "      <td>1</td>\n",
       "    </tr>\n",
       "    <tr>\n",
       "      <th>1</th>\n",
       "      <td>Nature's Lullabies Second Year Sticker Calendar</td>\n",
       "      <td>We wanted to get something to keep track of ou...</td>\n",
       "      <td>5</td>\n",
       "      <td>1</td>\n",
       "    </tr>\n",
       "    <tr>\n",
       "      <th>2</th>\n",
       "      <td>Nature's Lullabies Second Year Sticker Calendar</td>\n",
       "      <td>My daughter had her 1st baby over a year ago. ...</td>\n",
       "      <td>5</td>\n",
       "      <td>1</td>\n",
       "    </tr>\n",
       "    <tr>\n",
       "      <th>3</th>\n",
       "      <td>Lamaze Peekaboo, I Love You</td>\n",
       "      <td>One of baby's first and favorite books, and it...</td>\n",
       "      <td>4</td>\n",
       "      <td>1</td>\n",
       "    </tr>\n",
       "    <tr>\n",
       "      <th>4</th>\n",
       "      <td>SoftPlay Peek-A-Boo Where's Elmo A Children's ...</td>\n",
       "      <td>Very cute interactive book! My son loves this ...</td>\n",
       "      <td>5</td>\n",
       "      <td>1</td>\n",
       "    </tr>\n",
       "  </tbody>\n",
       "</table>\n",
       "</div>"
      ],
      "text/plain": [
       "                                                name  \\\n",
       "0  Stop Pacifier Sucking without tears with Thumb...   \n",
       "1    Nature's Lullabies Second Year Sticker Calendar   \n",
       "2    Nature's Lullabies Second Year Sticker Calendar   \n",
       "3                        Lamaze Peekaboo, I Love You   \n",
       "4  SoftPlay Peek-A-Boo Where's Elmo A Children's ...   \n",
       "\n",
       "                                              review  rating  sentiment  \n",
       "0  All of my kids have cried non-stop when I trie...       5          1  \n",
       "1  We wanted to get something to keep track of ou...       5          1  \n",
       "2  My daughter had her 1st baby over a year ago. ...       5          1  \n",
       "3  One of baby's first and favorite books, and it...       4          1  \n",
       "4  Very cute interactive book! My son loves this ...       5          1  "
      ]
     },
     "execution_count": 3,
     "metadata": {},
     "output_type": "execute_result"
    }
   ],
   "source": [
    "products.head()"
   ]
  },
  {
   "cell_type": "code",
   "execution_count": 4,
   "metadata": {
    "collapsed": true
   },
   "outputs": [],
   "source": [
    "important_words = pd.read_json('important_words.json')"
   ]
  },
  {
   "cell_type": "code",
   "execution_count": 5,
   "metadata": {
    "collapsed": true
   },
   "outputs": [],
   "source": [
    "products = products.fillna({'review':''})  # fill in N/A's in the review column"
   ]
  },
  {
   "cell_type": "code",
   "execution_count": 6,
   "metadata": {
    "collapsed": true
   },
   "outputs": [],
   "source": [
    "def remove_punctuation(text):\n",
    "    import string\n",
    "    return text.translate(None, string.punctuation)"
   ]
  },
  {
   "cell_type": "code",
   "execution_count": 7,
   "metadata": {
    "collapsed": true
   },
   "outputs": [],
   "source": [
    "products['review_clean'] = products['review'].apply(remove_punctuation)"
   ]
  },
  {
   "cell_type": "code",
   "execution_count": 8,
   "metadata": {
    "collapsed": false
   },
   "outputs": [],
   "source": [
    "for word in list(important_words.ix[:,0]):\n",
    "    products[word] = products['review_clean'].apply(lambda s : s.split().count(word))"
   ]
  },
  {
   "cell_type": "code",
   "execution_count": 9,
   "metadata": {
    "collapsed": false
   },
   "outputs": [
    {
     "data": {
      "text/plain": [
       "2955"
      ]
     },
     "execution_count": 9,
     "metadata": {},
     "output_type": "execute_result"
    }
   ],
   "source": [
    "products[products['perfect']>=1]['perfect'].count()"
   ]
  },
  {
   "cell_type": "code",
   "execution_count": 10,
   "metadata": {
    "collapsed": true
   },
   "outputs": [],
   "source": [
    "def get_numpy_data(dataframe, features, label):\n",
    "    dataframe['constant'] = 1\n",
    "    features = ['constant'] + features\n",
    "    features_frame = dataframe[features]\n",
    "    feature_matrix = features_frame.as_matrix()\n",
    "    label_sarray = dataframe[label]\n",
    "    label_array = label_sarray.as_matrix()\n",
    "    return(feature_matrix, label_array)"
   ]
  },
  {
   "cell_type": "code",
   "execution_count": 11,
   "metadata": {
    "collapsed": true
   },
   "outputs": [],
   "source": [
    "feature_matrix, sentiment = get_numpy_data(products, list(important_words.ix[:,0]), ['sentiment'])"
   ]
  },
  {
   "cell_type": "code",
   "execution_count": 12,
   "metadata": {
    "collapsed": false
   },
   "outputs": [
    {
     "data": {
      "text/plain": [
       "(53072L, 194L)"
      ]
     },
     "execution_count": 12,
     "metadata": {},
     "output_type": "execute_result"
    }
   ],
   "source": [
    "feature_matrix.shape"
   ]
  },
  {
   "cell_type": "code",
   "execution_count": 13,
   "metadata": {
    "collapsed": false
   },
   "outputs": [
    {
     "data": {
      "text/plain": [
       "(53072L, 1L)"
      ]
     },
     "execution_count": 13,
     "metadata": {},
     "output_type": "execute_result"
    }
   ],
   "source": [
    "sentiment.shape"
   ]
  },
  {
   "cell_type": "code",
   "execution_count": 14,
   "metadata": {
    "collapsed": true
   },
   "outputs": [],
   "source": [
    "def predict_probability(feature_matrix, coefficients):\n",
    "    # Take dot product of feature_matrix and coefficients  \n",
    "    score = np.dot(feature_matrix, coefficients)\n",
    "    # Compute P(y_i = +1 | x_i, w) using the link function\n",
    "    predictions = 1 / (1 + np.exp(-1 * score))\n",
    "    # return predictions\n",
    "    return predictions"
   ]
  },
  {
   "cell_type": "code",
   "execution_count": 15,
   "metadata": {
    "collapsed": true
   },
   "outputs": [],
   "source": [
    "def feature_derivative(errors, feature):     \n",
    "    # Compute the dot product of errors and feature\n",
    "    derivative = np.dot(errors, feature)\n",
    "    return derivative"
   ]
  },
  {
   "cell_type": "code",
   "execution_count": 16,
   "metadata": {
    "collapsed": true
   },
   "outputs": [],
   "source": [
    "def compute_log_likelihood(feature_matrix, sentiment, coefficients):\n",
    "    indicator = np.array([1 if (x==+1) else 0 for x in sentiment])\n",
    "    #print indicator\n",
    "    scores = np.dot(feature_matrix, coefficients)\n",
    "    lp = np.sum((indicator-1)*scores - np.log(1. + np.exp(-scores)))\n",
    "    return lp"
   ]
  },
  {
   "cell_type": "code",
   "execution_count": 17,
   "metadata": {
    "collapsed": false
   },
   "outputs": [],
   "source": [
    "from math import sqrt\n",
    "def logistic_regression(feature_matrix, sentiment, initial_coefficients, step_size, max_iter):\n",
    "    coefficients = np.array(initial_coefficients) # make sure it's a numpy array\n",
    "    for itr in xrange(max_iter):\n",
    "        # Predict P(y_i = +1|x_1,w) using your predict_probability() function\n",
    "        predictions = predict_probability(feature_matrix, coefficients)\n",
    "\n",
    "        # Compute indicator value for (y_i = +1)\n",
    "        indicator = np.array([1 if (x==+1) else 0 for x in sentiment])\n",
    "\n",
    "        # Compute the errors as indicator - predictions\n",
    "        errors = indicator - predictions\n",
    "\n",
    "        for j in xrange(len(coefficients)): # loop over each coefficient\n",
    "            # Recall that feature_matrix[:,j] is the feature column associated with coefficients[j]\n",
    "            # compute the derivative for coefficients[j]. Save it in a variable called derivative\n",
    "            derivative = feature_derivative(errors, feature_matrix[:,j])\n",
    "            # add the step size times the derivative to the current coefficient\n",
    "            coefficients[j] = coefficients[j] + (step_size * derivative)\n",
    "            \n",
    "        # Checking whether log likelihood is increasing\n",
    "        if itr <= 15 or (itr <= 100 and itr % 10 == 0) or (itr <= 1000 and itr % 100 == 0) \\\n",
    "        or (itr <= 10000 and itr % 1000 == 0) or itr % 10000 == 0:\n",
    "            lp = compute_log_likelihood(feature_matrix, sentiment, coefficients)\n",
    "            print 'iteration %*d: log likelihood of observed labels = %.8f' % \\\n",
    "                (int(np.ceil(np.log10(max_iter))), itr, lp)\n",
    "    return coefficients"
   ]
  },
  {
   "cell_type": "code",
   "execution_count": 18,
   "metadata": {
    "collapsed": false
   },
   "outputs": [
    {
     "name": "stdout",
     "output_type": "stream",
     "text": [
      "iteration   0: log likelihood of observed labels = -36780.91768478\n",
      "iteration   1: log likelihood of observed labels = -36775.13434712\n",
      "iteration   2: log likelihood of observed labels = -36769.35713564\n",
      "iteration   3: log likelihood of observed labels = -36763.58603240\n",
      "iteration   4: log likelihood of observed labels = -36757.82101962\n",
      "iteration   5: log likelihood of observed labels = -36752.06207964\n",
      "iteration   6: log likelihood of observed labels = -36746.30919497\n",
      "iteration   7: log likelihood of observed labels = -36740.56234821\n",
      "iteration   8: log likelihood of observed labels = -36734.82152213\n",
      "iteration   9: log likelihood of observed labels = -36729.08669961\n",
      "iteration  10: log likelihood of observed labels = -36723.35786366\n",
      "iteration  11: log likelihood of observed labels = -36717.63499744\n",
      "iteration  12: log likelihood of observed labels = -36711.91808422\n",
      "iteration  13: log likelihood of observed labels = -36706.20710739\n",
      "iteration  14: log likelihood of observed labels = -36700.50205049\n",
      "iteration  15: log likelihood of observed labels = -36694.80289716\n",
      "iteration  20: log likelihood of observed labels = -36666.39512033\n",
      "iteration  30: log likelihood of observed labels = -36610.01327118\n",
      "iteration  40: log likelihood of observed labels = -36554.19728365\n",
      "iteration  50: log likelihood of observed labels = -36498.93316099\n",
      "iteration  60: log likelihood of observed labels = -36444.20783914\n",
      "iteration  70: log likelihood of observed labels = -36390.00909449\n",
      "iteration  80: log likelihood of observed labels = -36336.32546144\n",
      "iteration  90: log likelihood of observed labels = -36283.14615871\n",
      "iteration 100: log likelihood of observed labels = -36230.46102347\n",
      "iteration 200: log likelihood of observed labels = -35728.89418769\n",
      "iteration 300: log likelihood of observed labels = -35268.51212683\n"
     ]
    }
   ],
   "source": [
    "coefficients = logistic_regression(feature_matrix, sentiment, np.zeros(194), 1e-7, 301)"
   ]
  },
  {
   "cell_type": "code",
   "execution_count": 19,
   "metadata": {
    "collapsed": false
   },
   "outputs": [
    {
     "data": {
      "text/plain": [
       "array([  5.16220157e-03,   1.55656966e-02,  -8.50204675e-03,\n",
       "         6.65460842e-02,   6.58907629e-02,   5.01743882e-03,\n",
       "        -5.38601484e-02,  -3.50488413e-03,   6.47945868e-02,\n",
       "         4.54356263e-02,   3.98353364e-03,   2.00775410e-02,\n",
       "         3.01350011e-02,  -2.87115530e-02,   1.52161964e-02,\n",
       "         2.72592062e-04,   1.19448177e-02,  -1.82461935e-02,\n",
       "        -1.21706420e-02,  -4.15110334e-02,   2.76820391e-03,\n",
       "         1.77031999e-02,  -4.39700067e-03,   4.49764014e-02,\n",
       "         9.90916464e-03,   8.99239081e-04,  -1.36219516e-03,\n",
       "         1.26859357e-02,   8.26466695e-03,  -2.77426972e-02,\n",
       "         6.10128809e-04,   1.54084501e-02,  -1.32134753e-02,\n",
       "        -3.00512492e-02,   2.97399371e-02,   1.84087080e-02,\n",
       "         2.86178752e-03,  -1.05768015e-02,  -6.57350362e-04,\n",
       "        -1.01476555e-02,  -4.79579528e-03,   7.50891810e-03,\n",
       "         4.27938289e-03,   3.06785501e-03,  -2.20317661e-03,\n",
       "         9.57273354e-03,   9.91666827e-05,  -1.98462567e-02,\n",
       "         1.75702722e-02,   1.55478612e-03,  -1.77375440e-02,\n",
       "         9.78324102e-03,   1.17031606e-02,  -7.35345937e-03,\n",
       "        -6.08714030e-03,   6.43766808e-03,   1.07159665e-02,\n",
       "        -3.05345476e-03,   7.17190727e-03,   5.73320003e-03,\n",
       "         4.60661876e-03,  -5.20588421e-03,   6.71012331e-03,\n",
       "         9.03281814e-03,   1.74563147e-03,   6.00279979e-03,\n",
       "         1.20181744e-02,  -1.83594607e-02,  -6.91010811e-03,\n",
       "        -1.38687273e-02,  -1.50406590e-02,   5.92353611e-03,\n",
       "         5.67478991e-03,  -5.28786220e-03,   3.08147864e-03,\n",
       "         5.53751236e-03,   1.49917916e-02,  -3.35666000e-04,\n",
       "        -3.30695153e-02,  -4.78990943e-03,  -6.41368859e-03,\n",
       "         7.99938935e-03,  -8.61390444e-04,   1.68052959e-02,\n",
       "         1.32539901e-02,   1.72307051e-03,   2.98030675e-03,\n",
       "         8.58284300e-03,   1.17082481e-02,   2.80825907e-03,\n",
       "         2.18724016e-03,   1.68824711e-02,  -4.65973741e-03,\n",
       "         1.51368285e-03,  -1.09509122e-02,   9.17842898e-03,\n",
       "        -1.88572281e-04,  -3.89820373e-02,  -2.44821005e-02,\n",
       "        -1.87023714e-02,  -2.13943485e-02,  -1.29690465e-02,\n",
       "        -1.71378670e-02,  -1.37566767e-02,  -1.49770449e-02,\n",
       "        -5.10287978e-03,  -2.89789761e-02,  -1.48663194e-02,\n",
       "        -1.28088380e-02,  -1.07709355e-02,  -6.95286915e-03,\n",
       "        -5.04082164e-03,  -9.25914404e-03,  -2.40427481e-02,\n",
       "        -2.65927785e-02,  -1.97320937e-03,  -5.04127508e-03,\n",
       "        -7.00791912e-03,  -3.48088523e-03,  -6.40958916e-03,\n",
       "        -4.07497010e-03,  -6.30054296e-03,  -1.09187932e-02,\n",
       "        -1.26051900e-02,  -1.66895314e-03,  -7.76418781e-03,\n",
       "        -5.15960485e-04,  -1.94199551e-03,  -1.24761586e-03,\n",
       "        -5.01291731e-03,  -9.12049191e-03,  -7.22098801e-03,\n",
       "        -8.31782981e-03,  -5.60573348e-03,  -1.47098335e-02,\n",
       "        -9.31520819e-03,  -2.22034402e-03,  -7.07573098e-03,\n",
       "        -5.10115608e-03,  -8.93572862e-03,  -1.27545713e-02,\n",
       "        -7.04171991e-03,  -9.76219676e-04,   4.12091713e-04,\n",
       "         8.29251160e-04,   2.64661064e-03,  -7.73228782e-03,\n",
       "         1.53471164e-03,  -7.37263060e-03,  -3.73694386e-03,\n",
       "        -3.81416409e-03,  -1.64575145e-03,  -3.31887732e-03,\n",
       "         1.22257832e-03,   1.36699286e-05,  -3.01866601e-03,\n",
       "        -1.02826343e-02,  -1.06691327e-02,   2.23639046e-03,\n",
       "        -9.87424798e-03,  -1.02192048e-02,  -3.41330929e-03,\n",
       "         3.34489960e-03,  -3.50984516e-03,  -6.26283150e-03,\n",
       "        -7.22419943e-03,  -5.47016154e-03,  -1.25063947e-02,\n",
       "        -2.47805699e-03,  -1.60017985e-02,  -6.40098934e-03,\n",
       "        -4.26644386e-03,  -1.55376990e-02,   2.31349237e-03,\n",
       "        -9.06653337e-03,  -6.30012672e-03,  -1.21010303e-02,\n",
       "        -3.02578875e-03,  -6.76289718e-03,  -5.65498722e-03,\n",
       "        -6.87050239e-03,  -1.18950595e-02,  -1.86489236e-04,\n",
       "        -1.15230476e-02,   2.81533219e-03,  -8.10150295e-03,\n",
       "        -1.00062131e-02,   4.02037651e-03,  -5.44300346e-03,\n",
       "         2.85818985e-03,   1.19885003e-04,  -6.47587687e-03,\n",
       "        -1.14493516e-03,  -7.09205934e-03])"
      ]
     },
     "execution_count": 19,
     "metadata": {},
     "output_type": "execute_result"
    }
   ],
   "source": [
    "coefficients"
   ]
  },
  {
   "cell_type": "code",
   "execution_count": 20,
   "metadata": {
    "collapsed": true
   },
   "outputs": [],
   "source": [
    "scores = np.dot(feature_matrix, coefficients)"
   ]
  },
  {
   "cell_type": "code",
   "execution_count": 21,
   "metadata": {
    "collapsed": false
   },
   "outputs": [
    {
     "data": {
      "text/plain": [
       "array([ 0.05104571, -0.02936473,  0.02411584, ..., -0.40986295,\n",
       "        0.01411436, -0.06755923])"
      ]
     },
     "execution_count": 21,
     "metadata": {},
     "output_type": "execute_result"
    }
   ],
   "source": [
    "scores"
   ]
  },
  {
   "cell_type": "code",
   "execution_count": 22,
   "metadata": {
    "collapsed": false
   },
   "outputs": [],
   "source": [
    "products['prediction_algo'] = [1 if (x > 0) else -1 for x in scores]"
   ]
  },
  {
   "cell_type": "code",
   "execution_count": 23,
   "metadata": {
    "collapsed": false
   },
   "outputs": [
    {
     "data": {
      "text/plain": [
       "25126"
      ]
     },
     "execution_count": 23,
     "metadata": {},
     "output_type": "execute_result"
    }
   ],
   "source": [
    "products[products['prediction_algo']>0]['prediction_algo'].count()"
   ]
  },
  {
   "cell_type": "code",
   "execution_count": 24,
   "metadata": {
    "collapsed": false
   },
   "outputs": [],
   "source": [
    "total_no = len(products.index)"
   ]
  },
  {
   "cell_type": "code",
   "execution_count": 25,
   "metadata": {
    "collapsed": false
   },
   "outputs": [],
   "source": [
    "correct_predict = len(products[products['sentiment'] == products['prediction_algo']].index)"
   ]
  },
  {
   "cell_type": "code",
   "execution_count": 26,
   "metadata": {
    "collapsed": true
   },
   "outputs": [],
   "source": [
    "accuracy = correct_predict / float(total_no)"
   ]
  },
  {
   "cell_type": "code",
   "execution_count": 27,
   "metadata": {
    "collapsed": false
   },
   "outputs": [
    {
     "data": {
      "text/plain": [
       "0.7518653904130238"
      ]
     },
     "execution_count": 27,
     "metadata": {},
     "output_type": "execute_result"
    }
   ],
   "source": [
    "accuracy"
   ]
  },
  {
   "cell_type": "code",
   "execution_count": 28,
   "metadata": {
    "collapsed": false
   },
   "outputs": [],
   "source": [
    "coefficients = list(coefficients[1:]) # exclude intercept\n",
    "word_coefficient_tuples = [(word, coefficient) for word, coefficient in zip(list(important_words.ix[:,0]), coefficients)]\n",
    "word_coefficient_tuples = sorted(word_coefficient_tuples, key=lambda x:x[1], reverse=True)"
   ]
  },
  {
   "cell_type": "code",
   "execution_count": 29,
   "metadata": {
    "collapsed": false
   },
   "outputs": [
    {
     "data": {
      "text/plain": [
       "[(u'great', 0.066546084170457695),\n",
       " (u'love', 0.065890762922123258),\n",
       " (u'easy', 0.06479458680257838),\n",
       " (u'little', 0.045435626308421365),\n",
       " (u'loves', 0.044976401394906038),\n",
       " (u'well', 0.030135001092107077),\n",
       " (u'perfect', 0.029739937104968462),\n",
       " (u'old', 0.020077541034775378),\n",
       " (u'nice', 0.018408707995268992),\n",
       " (u'daughter', 0.017703199905701694),\n",
       " (u'soft', 0.01757027224560289),\n",
       " (u'fits', 0.016882471071408719),\n",
       " (u'happy', 0.01680529588976808),\n",
       " (u'baby', 0.015565696580423507),\n",
       " (u'recommend', 0.015408450108008665),\n",
       " (u'also', 0.015216196422918844),\n",
       " (u'best', 0.014991791565630264),\n",
       " (u'comfortable', 0.013253990081584901),\n",
       " (u'car', 0.012685935745813375),\n",
       " (u'clean', 0.012018174433365525),\n",
       " (u'son', 0.011944817713693955),\n",
       " (u'bit', 0.011708248093123262),\n",
       " (u'works', 0.011703160621987424),\n",
       " (u'size', 0.010715966516270301),\n",
       " (u'stroller', 0.0099091646359727361),\n",
       " (u'room', 0.0097832410215680614),\n",
       " (u'price', 0.0095727335435901815),\n",
       " (u'play', 0.0091784289839843096),\n",
       " (u'easily', 0.0090328181389544068),\n",
       " (u'kids', 0.0085828430043465281),\n",
       " (u'still', 0.0082646669453744631),\n",
       " (u'lot', 0.0079993893492483273),\n",
       " (u'around', 0.0075089180973143413),\n",
       " (u'need', 0.00717190727002709),\n",
       " (u'take', 0.0067101233146641725),\n",
       " (u'keep', 0.0064376680818701874),\n",
       " (u'crib', 0.0060027997886387069),\n",
       " (u'without', 0.005923536113220277),\n",
       " (u'year', 0.0057332000284878925),\n",
       " (u'set', 0.0056747899080565687),\n",
       " (u'cute', 0.00553751236405903),\n",
       " (u'use', 0.0050174388165654107),\n",
       " (u'big', 0.0046066187619706062),\n",
       " (u'diaper', 0.0042793828903547691),\n",
       " (u'wish', 0.0040203765080997498),\n",
       " (u'seat', 0.0039835336394136106),\n",
       " (u'though', 0.0033448995950862924),\n",
       " (u'every', 0.0030814786398540429),\n",
       " (u'enough', 0.0030678550129901094),\n",
       " (u'able', 0.0029803067506612626),\n",
       " (u'bag', 0.0028617875161052087),\n",
       " (u'babies', 0.0028581898513427399),\n",
       " (u'seems', 0.002815332188646534),\n",
       " (u'night', 0.0028082590666831486),\n",
       " (u'good', 0.0027682039063976812),\n",
       " (u'many', 0.0026466106385121292),\n",
       " (u'makes', 0.0023134923740490217),\n",
       " (u'pretty', 0.0022363904560238454),\n",
       " (u'long', 0.0021872401621619436),\n",
       " (u'think', 0.0017456314732199937),\n",
       " (u'toy', 0.0017230705102314389),\n",
       " (u'since', 0.0015547861236921195),\n",
       " (u'looking', 0.0015347116392846498),\n",
       " (u'us', 0.0015136828514065383),\n",
       " (u'purchase', 0.0012225783235106362),\n",
       " (u'put', 0.00089923908141546804),\n",
       " (u'cover', 0.0008292511599959564),\n",
       " (u'used', 0.00061012880897526507),\n",
       " (u'found', 0.00041209171300655642),\n",
       " (u'really', 0.00027259206246776094),\n",
       " (u'won', 0.00011988500346780872),\n",
       " (u'go', 9.9166682748143075e-05),\n",
       " (u'looks', 1.3669928550230991e-05),\n",
       " (u'high', -0.00018648923566776297),\n",
       " (u'day', -0.00018857228050011131),\n",
       " (u'bottles', -0.0003356660003498164),\n",
       " (u'chair', -0.00051596048462622835),\n",
       " (u'using', -0.00065735036209234245),\n",
       " (u'side', -0.00086139044376868951),\n",
       " (u'worth', -0.00097621967562233722),\n",
       " (u'almost', -0.0011449351626316186),\n",
       " (u'hold', -0.0012476158571719626),\n",
       " (u'months', -0.0013621951573487417),\n",
       " (u'look', -0.0016457514473845493),\n",
       " (u'sure', -0.0016689531424132905),\n",
       " (u'find', -0.0019419955109540176),\n",
       " (u'amazon', -0.001973209371896165),\n",
       " (u'month', -0.0022031766056230711),\n",
       " (u'getting', -0.0022203440239695672),\n",
       " (u'come', -0.0024780569860886571),\n",
       " (u'second', -0.003018666010667183),\n",
       " (u'head', -0.0030257887493927997),\n",
       " (u'small', -0.0030534547593308709),\n",
       " (u'place', -0.0033188773175081994),\n",
       " (u'together', -0.0034133092891886524),\n",
       " (u'want', -0.0034808852314084323),\n",
       " (u'like', -0.0035048841333352059),\n",
       " (u'give', -0.0035098451575682472),\n",
       " (u'say', -0.0037369438587485197),\n",
       " (u'wanted', -0.0038141640936843104),\n",
       " (u'know', -0.0040749701003517042),\n",
       " (u'took', -0.0042664438640147096),\n",
       " (u'much', -0.0043970006745094299),\n",
       " (u'see', -0.0046597374068885651),\n",
       " (u'purchased', -0.0047899094286734025),\n",
       " (u'fit', -0.0047957952780930185),\n",
       " (u'gate', -0.005012917306197128),\n",
       " (u'bottle', -0.0050408216362491497),\n",
       " (u'different', -0.0050412750790588164),\n",
       " (u'came', -0.0051011560842950596),\n",
       " (u'however', -0.0051028797848771106),\n",
       " (u'make', -0.0052058842106071585),\n",
       " (u'new', -0.0052878621959721516),\n",
       " (u'buying', -0.0054430034643825967),\n",
       " (u'last', -0.0054701615413924346),\n",
       " (u'actually', -0.0056057334752514162),\n",
       " (u'less', -0.0056549872222576951),\n",
       " (u'child', -0.0060871403023475537),\n",
       " (u'started', -0.0062628315031623052),\n",
       " (u'instead', -0.0063001267181794626),\n",
       " (u'water', -0.0063005429622255442),\n",
       " (u'maybe', -0.0064009893446270215),\n",
       " (u'problem', -0.0064095891550037818),\n",
       " (u'right', -0.0064136885850504758),\n",
       " (u'tub', -0.0064758768730180886),\n",
       " (u'said', -0.0067628971751120259),\n",
       " (u'went', -0.006870502394402382),\n",
       " (u'quality', -0.0069101081121460371),\n",
       " (u'pump', -0.006952869149061942),\n",
       " (u'top', -0.0070079191164656796),\n",
       " (u'part', -0.0070417199084278053),\n",
       " (u'ordered', -0.0070757309816473464),\n",
       " (u'either', -0.00709205934413514),\n",
       " (u'bottom', -0.0072209880120885691),\n",
       " (u'anything', -0.0072241994259100942),\n",
       " (u'made', -0.0073534593690945246),\n",
       " (u'weeks', -0.0073726305977644107),\n",
       " (u'design', -0.0077322878173709904),\n",
       " (u'times', -0.0077641878083142468),\n",
       " (u'picture', -0.0081015029526760162),\n",
       " (u'away', -0.0083178298076960911),\n",
       " (u'one', -0.0085020467457573717),\n",
       " (u'milk', -0.0089357286159934771),\n",
       " (u'stay', -0.0090665333735902177),\n",
       " (u'open', -0.0091204919107482751),\n",
       " (u'cup', -0.0092591440431899763),\n",
       " (u'worked', -0.0093152081919567181),\n",
       " (u'trying', -0.0098742479801358779),\n",
       " (u'completely', -0.010006213059178752),\n",
       " (u'got', -0.010147655511657534),\n",
       " (u'difficult', -0.010219204790778673),\n",
       " (u'piece', -0.010282634317735408),\n",
       " (u'two', -0.010576801537792878),\n",
       " (u'box', -0.010669132724912933),\n",
       " (u'going', -0.010770935491004765),\n",
       " (u'try', -0.010918793208792996),\n",
       " (u'another', -0.010950912169649826),\n",
       " (u'unit', -0.0115230475554972),\n",
       " (u'working', -0.011895059489782873),\n",
       " (u'idea', -0.012101030310887904),\n",
       " (u'bought', -0.012170641997242547),\n",
       " (u'company', -0.012506394670958822),\n",
       " (u'received', -0.01260518995366231),\n",
       " (u'bad', -0.012754571329579798),\n",
       " (u'something', -0.012808838024750812),\n",
       " (u'never', -0.012969046546319292),\n",
       " (u'first', -0.013213475301677043),\n",
       " (u'hard', -0.013756676731261401),\n",
       " (u'thing', -0.013868727265297583),\n",
       " (u'cheap', -0.014709833465080665),\n",
       " (u'reviews', -0.014866319449976982),\n",
       " (u'plastic', -0.014977044903587941),\n",
       " (u'better', -0.015040658977043391),\n",
       " (u'broke', -0.01553769895565389),\n",
       " (u'returned', -0.016001798500102516),\n",
       " (u'item', -0.01713786701085479),\n",
       " (u'buy', -0.017737543997218049),\n",
       " (u'time', -0.018246193486087033),\n",
       " (u'way', -0.018359460662945686),\n",
       " (u'tried', -0.018702371424325834),\n",
       " (u'could', -0.01984625666077721),\n",
       " (u'thought', -0.021394348543682485),\n",
       " (u'waste', -0.02404274807115496),\n",
       " (u'monitor', -0.024482100545891724),\n",
       " (u'return', -0.026592778462247283),\n",
       " (u'back', -0.027742697230661334),\n",
       " (u'get', -0.028711552980192574),\n",
       " (u'disappointed', -0.028978976142317068),\n",
       " (u'even', -0.030051249236035804),\n",
       " (u'work', -0.03306951529475273),\n",
       " (u'money', -0.038982037286487116),\n",
       " (u'product', -0.041511033392108904),\n",
       " (u'would', -0.053860148445203142)]"
      ]
     },
     "execution_count": 29,
     "metadata": {},
     "output_type": "execute_result"
    }
   ],
   "source": [
    "word_coefficient_tuples"
   ]
  }
 ],
 "metadata": {
  "kernelspec": {
   "display_name": "Python 2",
   "language": "python",
   "name": "python2"
  },
  "language_info": {
   "codemirror_mode": {
    "name": "ipython",
    "version": 2
   },
   "file_extension": ".py",
   "mimetype": "text/x-python",
   "name": "python",
   "nbconvert_exporter": "python",
   "pygments_lexer": "ipython2",
   "version": "2.7.13"
  }
 },
 "nbformat": 4,
 "nbformat_minor": 0
}
