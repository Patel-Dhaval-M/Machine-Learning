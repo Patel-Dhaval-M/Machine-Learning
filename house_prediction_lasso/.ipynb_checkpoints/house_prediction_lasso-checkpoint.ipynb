{
 "cells": [
  {
   "cell_type": "code",
   "execution_count": 8,
   "metadata": {
    "collapsed": false
   },
   "outputs": [],
   "source": [
    "from sklearn import linear_model\n",
    "import pandas as pd\n",
    "import numpy as np\n",
    "from math import log, sqrt"
   ]
  },
  {
   "cell_type": "code",
   "execution_count": 9,
   "metadata": {
    "collapsed": true
   },
   "outputs": [],
   "source": [
    "dtype_dict = {'bathrooms':float, 'waterfront':int, 'sqft_above':int, 'sqft_living15':float, 'grade':int, 'yr_renovated':int, 'price':float, 'bedrooms':float, 'zipcode':str, 'long':float, 'sqft_lot15':float, 'sqft_living':float, 'floors':float, 'condition':int, 'lat':float, 'date':str, 'sqft_basement':int, 'yr_built':int, 'id':str, 'sqft_lot':int, 'view':int}\n",
    "sales = pd.read_csv('kc_house_data.csv', dtype=dtype_dict)"
   ]
  },
  {
   "cell_type": "code",
   "execution_count": 10,
   "metadata": {
    "collapsed": false
   },
   "outputs": [
    {
     "data": {
      "text/html": [
       "<div>\n",
       "<table border=\"1\" class=\"dataframe\">\n",
       "  <thead>\n",
       "    <tr style=\"text-align: right;\">\n",
       "      <th></th>\n",
       "      <th>id</th>\n",
       "      <th>date</th>\n",
       "      <th>price</th>\n",
       "      <th>bedrooms</th>\n",
       "      <th>bathrooms</th>\n",
       "      <th>sqft_living</th>\n",
       "      <th>sqft_lot</th>\n",
       "      <th>floors</th>\n",
       "      <th>waterfront</th>\n",
       "      <th>view</th>\n",
       "      <th>...</th>\n",
       "      <th>grade</th>\n",
       "      <th>sqft_above</th>\n",
       "      <th>sqft_basement</th>\n",
       "      <th>yr_built</th>\n",
       "      <th>yr_renovated</th>\n",
       "      <th>zipcode</th>\n",
       "      <th>lat</th>\n",
       "      <th>long</th>\n",
       "      <th>sqft_living15</th>\n",
       "      <th>sqft_lot15</th>\n",
       "    </tr>\n",
       "  </thead>\n",
       "  <tbody>\n",
       "    <tr>\n",
       "      <th>0</th>\n",
       "      <td>7129300520</td>\n",
       "      <td>20141013T000000</td>\n",
       "      <td>221900.0</td>\n",
       "      <td>3.0</td>\n",
       "      <td>1.00</td>\n",
       "      <td>1180.0</td>\n",
       "      <td>5650</td>\n",
       "      <td>1.0</td>\n",
       "      <td>0</td>\n",
       "      <td>0</td>\n",
       "      <td>...</td>\n",
       "      <td>7</td>\n",
       "      <td>1180</td>\n",
       "      <td>0</td>\n",
       "      <td>1955</td>\n",
       "      <td>0</td>\n",
       "      <td>98178</td>\n",
       "      <td>47.5112</td>\n",
       "      <td>-122.257</td>\n",
       "      <td>1340.0</td>\n",
       "      <td>5650.0</td>\n",
       "    </tr>\n",
       "    <tr>\n",
       "      <th>1</th>\n",
       "      <td>6414100192</td>\n",
       "      <td>20141209T000000</td>\n",
       "      <td>538000.0</td>\n",
       "      <td>3.0</td>\n",
       "      <td>2.25</td>\n",
       "      <td>2570.0</td>\n",
       "      <td>7242</td>\n",
       "      <td>2.0</td>\n",
       "      <td>0</td>\n",
       "      <td>0</td>\n",
       "      <td>...</td>\n",
       "      <td>7</td>\n",
       "      <td>2170</td>\n",
       "      <td>400</td>\n",
       "      <td>1951</td>\n",
       "      <td>1991</td>\n",
       "      <td>98125</td>\n",
       "      <td>47.7210</td>\n",
       "      <td>-122.319</td>\n",
       "      <td>1690.0</td>\n",
       "      <td>7639.0</td>\n",
       "    </tr>\n",
       "    <tr>\n",
       "      <th>2</th>\n",
       "      <td>5631500400</td>\n",
       "      <td>20150225T000000</td>\n",
       "      <td>180000.0</td>\n",
       "      <td>2.0</td>\n",
       "      <td>1.00</td>\n",
       "      <td>770.0</td>\n",
       "      <td>10000</td>\n",
       "      <td>1.0</td>\n",
       "      <td>0</td>\n",
       "      <td>0</td>\n",
       "      <td>...</td>\n",
       "      <td>6</td>\n",
       "      <td>770</td>\n",
       "      <td>0</td>\n",
       "      <td>1933</td>\n",
       "      <td>0</td>\n",
       "      <td>98028</td>\n",
       "      <td>47.7379</td>\n",
       "      <td>-122.233</td>\n",
       "      <td>2720.0</td>\n",
       "      <td>8062.0</td>\n",
       "    </tr>\n",
       "    <tr>\n",
       "      <th>3</th>\n",
       "      <td>2487200875</td>\n",
       "      <td>20141209T000000</td>\n",
       "      <td>604000.0</td>\n",
       "      <td>4.0</td>\n",
       "      <td>3.00</td>\n",
       "      <td>1960.0</td>\n",
       "      <td>5000</td>\n",
       "      <td>1.0</td>\n",
       "      <td>0</td>\n",
       "      <td>0</td>\n",
       "      <td>...</td>\n",
       "      <td>7</td>\n",
       "      <td>1050</td>\n",
       "      <td>910</td>\n",
       "      <td>1965</td>\n",
       "      <td>0</td>\n",
       "      <td>98136</td>\n",
       "      <td>47.5208</td>\n",
       "      <td>-122.393</td>\n",
       "      <td>1360.0</td>\n",
       "      <td>5000.0</td>\n",
       "    </tr>\n",
       "    <tr>\n",
       "      <th>4</th>\n",
       "      <td>1954400510</td>\n",
       "      <td>20150218T000000</td>\n",
       "      <td>510000.0</td>\n",
       "      <td>3.0</td>\n",
       "      <td>2.00</td>\n",
       "      <td>1680.0</td>\n",
       "      <td>8080</td>\n",
       "      <td>1.0</td>\n",
       "      <td>0</td>\n",
       "      <td>0</td>\n",
       "      <td>...</td>\n",
       "      <td>8</td>\n",
       "      <td>1680</td>\n",
       "      <td>0</td>\n",
       "      <td>1987</td>\n",
       "      <td>0</td>\n",
       "      <td>98074</td>\n",
       "      <td>47.6168</td>\n",
       "      <td>-122.045</td>\n",
       "      <td>1800.0</td>\n",
       "      <td>7503.0</td>\n",
       "    </tr>\n",
       "  </tbody>\n",
       "</table>\n",
       "<p>5 rows × 21 columns</p>\n",
       "</div>"
      ],
      "text/plain": [
       "           id             date     price  bedrooms  bathrooms  sqft_living  \\\n",
       "0  7129300520  20141013T000000  221900.0       3.0       1.00       1180.0   \n",
       "1  6414100192  20141209T000000  538000.0       3.0       2.25       2570.0   \n",
       "2  5631500400  20150225T000000  180000.0       2.0       1.00        770.0   \n",
       "3  2487200875  20141209T000000  604000.0       4.0       3.00       1960.0   \n",
       "4  1954400510  20150218T000000  510000.0       3.0       2.00       1680.0   \n",
       "\n",
       "   sqft_lot  floors  waterfront  view     ...      grade  sqft_above  \\\n",
       "0      5650     1.0           0     0     ...          7        1180   \n",
       "1      7242     2.0           0     0     ...          7        2170   \n",
       "2     10000     1.0           0     0     ...          6         770   \n",
       "3      5000     1.0           0     0     ...          7        1050   \n",
       "4      8080     1.0           0     0     ...          8        1680   \n",
       "\n",
       "   sqft_basement  yr_built  yr_renovated  zipcode      lat     long  \\\n",
       "0              0      1955             0    98178  47.5112 -122.257   \n",
       "1            400      1951          1991    98125  47.7210 -122.319   \n",
       "2              0      1933             0    98028  47.7379 -122.233   \n",
       "3            910      1965             0    98136  47.5208 -122.393   \n",
       "4              0      1987             0    98074  47.6168 -122.045   \n",
       "\n",
       "   sqft_living15  sqft_lot15  \n",
       "0         1340.0      5650.0  \n",
       "1         1690.0      7639.0  \n",
       "2         2720.0      8062.0  \n",
       "3         1360.0      5000.0  \n",
       "4         1800.0      7503.0  \n",
       "\n",
       "[5 rows x 21 columns]"
      ]
     },
     "execution_count": 10,
     "metadata": {},
     "output_type": "execute_result"
    }
   ],
   "source": [
    "sales.head()"
   ]
  },
  {
   "cell_type": "code",
   "execution_count": 11,
   "metadata": {
    "collapsed": true
   },
   "outputs": [],
   "source": [
    "sales['sqft_living_sqrt'] = sales['sqft_living'].apply(sqrt)\n",
    "sales['sqft_lot_sqrt'] = sales['sqft_lot'].apply(sqrt)\n",
    "sales['bedrooms_square'] = sales['bedrooms']*sales['bedrooms']\n",
    "sales['floors_square'] = sales['floors']*sales['floors']"
   ]
  },
  {
   "cell_type": "code",
   "execution_count": 12,
   "metadata": {
    "collapsed": true
   },
   "outputs": [],
   "source": [
    "all_features = ['bedrooms', 'bedrooms_square',\n",
    "            'bathrooms',\n",
    "            'sqft_living', 'sqft_living_sqrt',\n",
    "            'sqft_lot', 'sqft_lot_sqrt',\n",
    "            'floors', 'floors_square',\n",
    "            'waterfront', 'view', 'condition', 'grade',\n",
    "            'sqft_above',\n",
    "            'sqft_basement',\n",
    "            'yr_built', 'yr_renovated']"
   ]
  },
  {
   "cell_type": "code",
   "execution_count": 13,
   "metadata": {
    "collapsed": false
   },
   "outputs": [
    {
     "data": {
      "text/plain": [
       "Lasso(alpha=500.0, copy_X=True, fit_intercept=True, max_iter=1000,\n",
       "   normalize=True, positive=False, precompute=False, random_state=None,\n",
       "   selection='cyclic', tol=0.0001, warm_start=False)"
      ]
     },
     "execution_count": 13,
     "metadata": {},
     "output_type": "execute_result"
    }
   ],
   "source": [
    "model_all = linear_model.Lasso(alpha=5e2, normalize=True) # set parameters\n",
    "model_all.fit(sales[all_features], sales['price']) # learn weights"
   ]
  },
  {
   "cell_type": "code",
   "execution_count": 96,
   "metadata": {
    "collapsed": false
   },
   "outputs": [],
   "source": [
    "bool1 = model_all.coef_ > 0"
   ]
  },
  {
   "cell_type": "code",
   "execution_count": 31,
   "metadata": {
    "collapsed": false
   },
   "outputs": [
    {
     "data": {
      "text/plain": [
       "3     sqft_living\n",
       "10           view\n",
       "12          grade\n",
       "dtype: object"
      ]
     },
     "execution_count": 31,
     "metadata": {},
     "output_type": "execute_result"
    }
   ],
   "source": [
    "pd.Series(all_features)[bool1]"
   ]
  },
  {
   "cell_type": "code",
   "execution_count": 32,
   "metadata": {
    "collapsed": false
   },
   "outputs": [],
   "source": [
    "testing = pd.read_csv('wk3_kc_house_test_data.csv', dtype=dtype_dict)\n",
    "training = pd.read_csv('wk3_kc_house_train_data.csv', dtype=dtype_dict)\n",
    "validation = pd.read_csv('wk3_kc_house_valid_data.csv', dtype=dtype_dict)"
   ]
  },
  {
   "cell_type": "code",
   "execution_count": 33,
   "metadata": {
    "collapsed": true
   },
   "outputs": [],
   "source": [
    "testing['sqft_living_sqrt'] = testing['sqft_living'].apply(sqrt)\n",
    "testing['sqft_lot_sqrt'] = testing['sqft_lot'].apply(sqrt)\n",
    "testing['bedrooms_square'] = testing['bedrooms']*testing['bedrooms']\n",
    "testing['floors_square'] = testing['floors']*testing['floors']\n",
    "\n",
    "training['sqft_living_sqrt'] = training['sqft_living'].apply(sqrt)\n",
    "training['sqft_lot_sqrt'] = training['sqft_lot'].apply(sqrt)\n",
    "training['bedrooms_square'] = training['bedrooms']*training['bedrooms']\n",
    "training['floors_square'] = training['floors']*training['floors']\n",
    "\n",
    "validation['sqft_living_sqrt'] = validation['sqft_living'].apply(sqrt)\n",
    "validation['sqft_lot_sqrt'] = validation['sqft_lot'].apply(sqrt)\n",
    "validation['bedrooms_square'] = validation['bedrooms']*validation['bedrooms']\n",
    "validation['floors_square'] = validation['floors']*validation['floors']"
   ]
  },
  {
   "cell_type": "code",
   "execution_count": 43,
   "metadata": {
    "collapsed": true
   },
   "outputs": [],
   "source": [
    "l1_penalty = np.logspace(1, 7, num=13)"
   ]
  },
  {
   "cell_type": "code",
   "execution_count": 44,
   "metadata": {
    "collapsed": false
   },
   "outputs": [
    {
     "data": {
      "text/plain": [
       "array([  1.00000000e+01,   3.16227766e+01,   1.00000000e+02,\n",
       "         3.16227766e+02,   1.00000000e+03,   3.16227766e+03,\n",
       "         1.00000000e+04,   3.16227766e+04,   1.00000000e+05,\n",
       "         3.16227766e+05,   1.00000000e+06,   3.16227766e+06,\n",
       "         1.00000000e+07])"
      ]
     },
     "execution_count": 44,
     "metadata": {},
     "output_type": "execute_result"
    }
   ],
   "source": [
    "l1_penalty"
   ]
  },
  {
   "cell_type": "code",
   "execution_count": 45,
   "metadata": {
    "collapsed": false
   },
   "outputs": [
    {
     "name": "stdout",
     "output_type": "stream",
     "text": [
      "RSS for 10 l1-penalty is 398213327300134\n",
      "RSS for 31 l1-penalty is 399041900253348\n",
      "RSS for 100 l1-penalty is 429791604072557\n",
      "RSS for 316 l1-penalty is 463739831045119\n",
      "RSS for 1000 l1-penalty is 645898733633810\n",
      "RSS for 3162 l1-penalty is 1222506859427156\n",
      "RSS for 10000 l1-penalty is 1222506859427156\n",
      "RSS for 31622 l1-penalty is 1222506859427156\n",
      "RSS for 100000 l1-penalty is 1222506859427156\n",
      "RSS for 316227 l1-penalty is 1222506859427156\n",
      "RSS for 1000000 l1-penalty is 1222506859427156\n",
      "RSS for 3162277 l1-penalty is 1222506859427156\n",
      "RSS for 10000000 l1-penalty is 1222506859427156\n"
     ]
    }
   ],
   "source": [
    "for l1_penalty in l1_penalty:\n",
    "    model = linear_model.Lasso(alpha=l1_penalty, normalize=True)\n",
    "    model.fit(training[all_features], training['price'])\n",
    "    predicted_value = model.predict(validation[all_features])\n",
    "    RSS = np.sum((predicted_value - validation['price'])**2)\n",
    "    print(\"RSS for %d l1-penalty is %d\" %(l1_penalty, RSS))"
   ]
  },
  {
   "cell_type": "code",
   "execution_count": 46,
   "metadata": {
    "collapsed": false
   },
   "outputs": [
    {
     "name": "stdout",
     "output_type": "stream",
     "text": [
      "RSS for test dataset is 98467402552698\n"
     ]
    }
   ],
   "source": [
    "model_best = linear_model.Lasso(alpha=10, normalize=True)\n",
    "model_best.fit(training[all_features], training['price'])\n",
    "predict_test = model_best.predict(testing[all_features])\n",
    "RSS = np.sum((predict_test - testing['price'])**2)\n",
    "print(\"RSS for test dataset is %d\" %(RSS))"
   ]
  },
  {
   "cell_type": "code",
   "execution_count": 47,
   "metadata": {
    "collapsed": false
   },
   "outputs": [
    {
     "data": {
      "text/plain": [
       "array([ -1.61445628e+04,   3.73245384e+02,   5.08412433e+04,\n",
       "         6.17853560e+02,  -4.44113549e+04,   7.85623065e-01,\n",
       "        -7.01194765e+02,  -0.00000000e+00,   5.01420046e+03,\n",
       "         6.19488752e+05,   3.80418557e+04,   2.49987718e+04,\n",
       "         1.28716235e+05,   0.00000000e+00,   0.00000000e+00,\n",
       "        -3.29383118e+03,   1.00573209e+01])"
      ]
     },
     "execution_count": 47,
     "metadata": {},
     "output_type": "execute_result"
    }
   ],
   "source": [
    "model_best.coef_"
   ]
  },
  {
   "cell_type": "code",
   "execution_count": 48,
   "metadata": {
    "collapsed": false
   },
   "outputs": [
    {
     "data": {
      "text/plain": [
       "6630155.6686283695"
      ]
     },
     "execution_count": 48,
     "metadata": {},
     "output_type": "execute_result"
    }
   ],
   "source": [
    "model_best.intercept_"
   ]
  },
  {
   "cell_type": "code",
   "execution_count": 49,
   "metadata": {
    "collapsed": false
   },
   "outputs": [
    {
     "data": {
      "text/plain": [
       "15"
      ]
     },
     "execution_count": 49,
     "metadata": {},
     "output_type": "execute_result"
    }
   ],
   "source": [
    "np.count_nonzero(model_best.coef_) + np.count_nonzero(model_best.intercept_)"
   ]
  },
  {
   "cell_type": "code",
   "execution_count": 74,
   "metadata": {
    "collapsed": false
   },
   "outputs": [
    {
     "name": "stdout",
     "output_type": "stream",
     "text": [
      "10.0\n",
      "no of non zero coefficient for l1_penalty 10 is 15\n",
      "14.3844988829\n",
      "no of non zero coefficient for l1_penalty 14 is 15\n",
      "20.6913808111\n",
      "no of non zero coefficient for l1_penalty 20 is 15\n",
      "29.7635144163\n",
      "no of non zero coefficient for l1_penalty 29 is 15\n",
      "42.8133239872\n",
      "no of non zero coefficient for l1_penalty 42 is 13\n",
      "61.5848211066\n",
      "no of non zero coefficient for l1_penalty 61 is 12\n",
      "88.586679041\n",
      "no of non zero coefficient for l1_penalty 88 is 11\n",
      "127.42749857\n",
      "no of non zero coefficient for l1_penalty 127 is 10\n",
      "183.298071083\n",
      "no of non zero coefficient for l1_penalty 183 is 7\n",
      "263.665089873\n",
      "no of non zero coefficient for l1_penalty 263 is 6\n",
      "379.269019073\n",
      "no of non zero coefficient for l1_penalty 379 is 6\n",
      "545.559478117\n",
      "no of non zero coefficient for l1_penalty 545 is 6\n",
      "784.759970351\n",
      "no of non zero coefficient for l1_penalty 784 is 5\n",
      "1128.83789168\n",
      "no of non zero coefficient for l1_penalty 1128 is 3\n",
      "1623.77673919\n",
      "no of non zero coefficient for l1_penalty 1623 is 3\n",
      "2335.72146909\n",
      "no of non zero coefficient for l1_penalty 2335 is 2\n",
      "3359.81828628\n",
      "no of non zero coefficient for l1_penalty 3359 is 1\n",
      "4832.93023857\n",
      "no of non zero coefficient for l1_penalty 4832 is 1\n",
      "6951.92796178\n",
      "no of non zero coefficient for l1_penalty 6951 is 1\n",
      "10000.0\n",
      "no of non zero coefficient for l1_penalty 10000 is 1\n"
     ]
    }
   ],
   "source": [
    "max_nonzeros = 7\n",
    "for i in np.logspace(1, 4, num=20):\n",
    "    print i\n",
    "    model_i = linear_model.Lasso(alpha=i, normalize=True)\n",
    "    model_i.fit(training[all_features], training['price'])\n",
    "    temp = (np.count_nonzero(model_i.coef_) + np.count_nonzero(model_i.intercept_))\n",
    "    print(\"no of non zero coefficient for l1_penalty %d is %d\" % (i, temp))"
   ]
  },
  {
   "cell_type": "code",
   "execution_count": 72,
   "metadata": {
    "collapsed": false
   },
   "outputs": [],
   "source": [
    "l1_penalty_min = 127.42749857\n",
    "l1_penalty_max = 263.665089873"
   ]
  },
  {
   "cell_type": "code",
   "execution_count": 86,
   "metadata": {
    "collapsed": false
   },
   "outputs": [
    {
     "name": "stdout",
     "output_type": "stream",
     "text": [
      "(l1_penalty, no_of_nonZero_variables, RSS) ==> (127.427499, 10, 435374677102612.500000)\n",
      "(l1_penalty, no_of_nonZero_variables, RSS) ==> (134.597898, 10, 437009229124402.625000)\n",
      "(l1_penalty, no_of_nonZero_variables, RSS) ==> (141.768298, 8, 438236128386877.062500)\n",
      "(l1_penalty, no_of_nonZero_variables, RSS) ==> (148.938697, 8, 439158937799623.875000)\n",
      "(l1_penalty, no_of_nonZero_variables, RSS) ==> (156.109097, 7, 440037365263289.875000)\n",
      "(l1_penalty, no_of_nonZero_variables, RSS) ==> (163.279496, 7, 440777489641579.000000)\n",
      "(l1_penalty, no_of_nonZero_variables, RSS) ==> (170.449896, 7, 441566698090113.812500)\n",
      "(l1_penalty, no_of_nonZero_variables, RSS) ==> (177.620295, 7, 442406413188640.250000)\n",
      "(l1_penalty, no_of_nonZero_variables, RSS) ==> (184.790695, 7, 443296716874289.625000)\n",
      "(l1_penalty, no_of_nonZero_variables, RSS) ==> (191.961094, 7, 444239780526117.687500)\n",
      "(l1_penalty, no_of_nonZero_variables, RSS) ==> (199.131494, 7, 445230739842591.187500)\n",
      "(l1_penalty, no_of_nonZero_variables, RSS) ==> (206.301894, 6, 446268896864688.187500)\n",
      "(l1_penalty, no_of_nonZero_variables, RSS) ==> (213.472293, 6, 447112919434624.437500)\n",
      "(l1_penalty, no_of_nonZero_variables, RSS) ==> (220.642693, 6, 447998187851550.750000)\n",
      "(l1_penalty, no_of_nonZero_variables, RSS) ==> (227.813092, 6, 448924706673241.250000)\n",
      "(l1_penalty, no_of_nonZero_variables, RSS) ==> (234.983492, 6, 449892475899697.937500)\n",
      "(l1_penalty, no_of_nonZero_variables, RSS) ==> (242.153891, 6, 450901498778111.375000)\n",
      "(l1_penalty, no_of_nonZero_variables, RSS) ==> (249.324291, 6, 451952426654974.937500)\n",
      "(l1_penalty, no_of_nonZero_variables, RSS) ==> (256.494690, 6, 453043924367591.500000)\n",
      "(l1_penalty, no_of_nonZero_variables, RSS) ==> (263.665090, 6, 454176669662628.000000)\n"
     ]
    }
   ],
   "source": [
    "for i in np.linspace(l1_penalty_min,l1_penalty_max,20):\n",
    "    model = linear_model.Lasso(alpha=i, normalize=True)\n",
    "    model.fit(training[all_features], training['price'])\n",
    "    temp = (np.count_nonzero(model.coef_) + np.count_nonzero(model.intercept_))\n",
    "    predict = model.predict(validation[all_features])\n",
    "    RSS = np.sum((predict - validation['price'])**2)\n",
    "    print(\"(l1_penalty, no_of_nonZero_variables, RSS) ==> (%f, %d, %f)\" % (i, temp, RSS))"
   ]
  },
  {
   "cell_type": "code",
   "execution_count": 87,
   "metadata": {
    "collapsed": false
   },
   "outputs": [
    {
     "data": {
      "text/plain": [
       "array([ -0.00000000e+00,  -0.00000000e+00,   1.06108902e+04,\n",
       "         1.63380252e+02,   0.00000000e+00,  -0.00000000e+00,\n",
       "        -0.00000000e+00,   0.00000000e+00,   0.00000000e+00,\n",
       "         5.06451687e+05,   4.19600436e+04,   0.00000000e+00,\n",
       "         1.16253554e+05,   0.00000000e+00,   0.00000000e+00,\n",
       "        -2.61223488e+03,   0.00000000e+00])"
      ]
     },
     "execution_count": 87,
     "metadata": {},
     "output_type": "execute_result"
    }
   ],
   "source": [
    "final_model = linear_model.Lasso(alpha=156.109097, normalize=True)\n",
    "final_model.fit(training[all_features], training['price'])\n",
    "final_model.coef_"
   ]
  },
  {
   "cell_type": "code",
   "execution_count": 98,
   "metadata": {
    "collapsed": false
   },
   "outputs": [
    {
     "data": {
      "text/plain": [
       "2       bathrooms\n",
       "3     sqft_living\n",
       "9      waterfront\n",
       "10           view\n",
       "12          grade\n",
       "15       yr_built\n",
       "dtype: object"
      ]
     },
     "execution_count": 98,
     "metadata": {},
     "output_type": "execute_result"
    }
   ],
   "source": [
    "pd.Series(all_features)[final_model.coef_ != 0]"
   ]
  },
  {
   "cell_type": "code",
   "execution_count": 97,
   "metadata": {
    "collapsed": false
   },
   "outputs": [
    {
     "data": {
      "text/plain": [
       "['bedrooms',\n",
       " 'bedrooms_square',\n",
       " 'bathrooms',\n",
       " 'sqft_living',\n",
       " 'sqft_living_sqrt',\n",
       " 'sqft_lot',\n",
       " 'sqft_lot_sqrt',\n",
       " 'floors',\n",
       " 'floors_square',\n",
       " 'waterfront',\n",
       " 'view',\n",
       " 'condition',\n",
       " 'grade',\n",
       " 'sqft_above',\n",
       " 'sqft_basement',\n",
       " 'yr_built',\n",
       " 'yr_renovated']"
      ]
     },
     "execution_count": 97,
     "metadata": {},
     "output_type": "execute_result"
    }
   ],
   "source": [
    "all_features"
   ]
  },
  {
   "cell_type": "code",
   "execution_count": 100,
   "metadata": {
    "collapsed": false
   },
   "outputs": [
    {
     "data": {
      "text/plain": [
       "array([    10.        ,     14.38449888,     20.69138081,     29.76351442,\n",
       "           42.81332399,     61.58482111,     88.58667904,    127.42749857,\n",
       "          183.29807108,    263.66508987,    379.26901907,    545.55947812,\n",
       "          784.75997035,   1128.83789168,   1623.77673919,   2335.72146909,\n",
       "         3359.81828628,   4832.93023857,   6951.92796178,  10000.        ])"
      ]
     },
     "execution_count": 100,
     "metadata": {},
     "output_type": "execute_result"
    }
   ],
   "source": [
    "np.logspace(1, 4, num=20)"
   ]
  },
  {
   "cell_type": "code",
   "execution_count": null,
   "metadata": {
    "collapsed": true
   },
   "outputs": [],
   "source": []
  }
 ],
 "metadata": {
  "kernelspec": {
   "display_name": "Python 2",
   "language": "python",
   "name": "python2"
  },
  "language_info": {
   "codemirror_mode": {
    "name": "ipython",
    "version": 2
   },
   "file_extension": ".py",
   "mimetype": "text/x-python",
   "name": "python",
   "nbconvert_exporter": "python",
   "pygments_lexer": "ipython2",
   "version": "2.7.13"
  }
 },
 "nbformat": 4,
 "nbformat_minor": 0
}
